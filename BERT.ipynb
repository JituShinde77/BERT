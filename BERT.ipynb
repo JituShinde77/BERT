{
 "cells": [
  {
   "cell_type": "markdown",
   "metadata": {
    "colab": {},
    "colab_type": "code",
    "id": "spVLXeToEJ87"
   },
   "source": [
    "## Intent Classification"
   ]
  },
  {
   "cell_type": "code",
   "execution_count": 1,
   "metadata": {
    "colab": {
     "base_uri": "https://localhost:8080/",
     "height": 353
    },
    "colab_type": "code",
    "id": "OSvDgwirFfWE",
    "outputId": "46350eaf-3608-4267-d8e3-8fb418240643"
   },
   "outputs": [
    {
     "name": "stdout",
     "output_type": "stream",
     "text": [
      "Sun Aug 16 05:36:46 2020       \n",
      "+-----------------------------------------------------------------------------+\n",
      "| NVIDIA-SMI 450.57       Driver Version: 418.67       CUDA Version: 10.1     |\n",
      "|-------------------------------+----------------------+----------------------+\n",
      "| GPU  Name        Persistence-M| Bus-Id        Disp.A | Volatile Uncorr. ECC |\n",
      "| Fan  Temp  Perf  Pwr:Usage/Cap|         Memory-Usage | GPU-Util  Compute M. |\n",
      "|                               |                      |               MIG M. |\n",
      "|===============================+======================+======================|\n",
      "|   0  Tesla T4            Off  | 00000000:00:04.0 Off |                    0 |\n",
      "| N/A   43C    P8     9W /  70W |      0MiB / 15079MiB |      0%      Default |\n",
      "|                               |                      |                 ERR! |\n",
      "+-------------------------------+----------------------+----------------------+\n",
      "                                                                               \n",
      "+-----------------------------------------------------------------------------+\n",
      "| Processes:                                                                  |\n",
      "|  GPU   GI   CI        PID   Type   Process name                  GPU Memory |\n",
      "|        ID   ID                                                   Usage      |\n",
      "|=============================================================================|\n",
      "|  No running processes found                                                 |\n",
      "+-----------------------------------------------------------------------------+\n"
     ]
    }
   ],
   "source": [
    "!nvidia-smi"
   ]
  },
  {
   "cell_type": "code",
   "execution_count": 2,
   "metadata": {
    "colab": {},
    "colab_type": "code",
    "id": "xtk2BciJFihb"
   },
   "outputs": [],
   "source": [
    "!pip install tensorflow-gpu >> /dev/null"
   ]
  },
  {
   "cell_type": "code",
   "execution_count": 3,
   "metadata": {
    "colab": {},
    "colab_type": "code",
    "id": "g6kdAOZbF_fb"
   },
   "outputs": [],
   "source": [
    "!pip install --upgrade grpcio >> /dev/null"
   ]
  },
  {
   "cell_type": "code",
   "execution_count": 4,
   "metadata": {
    "colab": {},
    "colab_type": "code",
    "id": "4WLcb2z9GMA1"
   },
   "outputs": [],
   "source": [
    "!pip install tqdm >> /dev/null"
   ]
  },
  {
   "cell_type": "code",
   "execution_count": 5,
   "metadata": {
    "colab": {},
    "colab_type": "code",
    "id": "j2yh661SGSbg"
   },
   "outputs": [],
   "source": [
    "!pip install bert-for-tf2 >> /dev/null"
   ]
  },
  {
   "cell_type": "code",
   "execution_count": 6,
   "metadata": {
    "colab": {},
    "colab_type": "code",
    "id": "yysD80RUGYQW"
   },
   "outputs": [],
   "source": [
    "!pip install sentencepiece >> /dev/null"
   ]
  },
  {
   "cell_type": "code",
   "execution_count": 7,
   "metadata": {
    "colab": {
     "base_uri": "https://localhost:8080/",
     "height": 70
    },
    "colab_type": "code",
    "id": "UtXf4Sn0GeeB",
    "outputId": "ccc319be-356a-4890-9e9b-b99794b4eca9"
   },
   "outputs": [
    {
     "name": "stderr",
     "output_type": "stream",
     "text": [
      "/usr/local/lib/python3.6/dist-packages/statsmodels/tools/_testing.py:19: FutureWarning: pandas.util.testing is deprecated. Use the functions in the public API at pandas.testing instead.\n",
      "  import pandas.util.testing as tm\n"
     ]
    }
   ],
   "source": [
    "import os\n",
    "import math\n",
    "import datetime\n",
    "\n",
    "from tqdm import tqdm\n",
    "\n",
    "import pandas as pd\n",
    "import numpy as np\n",
    "\n",
    "import tensorflow as tf\n",
    "from tensorflow import keras\n",
    "\n",
    "import bert\n",
    "from bert import BertModelLayer\n",
    "from bert.loader import StockBertConfig, map_stock_config_to_params, load_stock_weights\n",
    "from bert.tokenization.bert_tokenization import FullTokenizer\n",
    "\n",
    "import seaborn as sns\n",
    "from pylab import rcParams\n",
    "import matplotlib.pyplot as plt\n",
    "from matplotlib.ticker import MaxNLocator\n",
    "from matplotlib import rc\n",
    "\n",
    "%matplotlib inline\n",
    "%config InlineBackent.figure_format='retina'\n",
    "\n",
    "sns.set(style='whitegrid', palette='muted', font_scale=1.2)\n",
    "\n",
    "HAPPY_COLORS_PALETTE = ['#1BBEFE', '#FFDD00', '#FF7D00', '#FF7D006D', '#ADFF02',  '#8F00FF']\n",
    "\n",
    "#sns.set_palette(sns.color_palette(HAPPY_COLORS_PALETTE))\n",
    "\n",
    "\n",
    "rcParams['figure.figsize'] = 12, 8\n",
    "\n",
    "RANDOM_SEED = 42\n",
    "\n",
    "np.random.seed(RANDOM_SEED)\n",
    "tf.random.set_seed(RANDOM_SEED)\n"
   ]
  },
  {
   "cell_type": "code",
   "execution_count": 8,
   "metadata": {
    "colab": {
     "base_uri": "https://localhost:8080/",
     "height": 218
    },
    "colab_type": "code",
    "id": "TUTA-k9VJM-A",
    "outputId": "49d355be-2e67-4afe-ba1a-f21945db79e1"
   },
   "outputs": [
    {
     "name": "stdout",
     "output_type": "stream",
     "text": [
      "Downloading...\n",
      "From: https://drive.google.com/uc?id=1OlcvGWReJMuyYQuOZm149vHWwPtlboR6\n",
      "To: /content/train.csv\n",
      "100% 799k/799k [00:00<00:00, 116MB/s]\n",
      "Downloading...\n",
      "From: https://drive.google.com/uc?id=1Oi5cRlTybuIF2Fl5Bfsr-KkqrXrdt77w\n",
      "To: /content/valid.csv\n",
      "100% 43.3k/43.3k [00:00<00:00, 38.6MB/s]\n",
      "Downloading...\n",
      "From: https://drive.google.com/uc?id=1ep9H6-HvhB4utJRLVcLzieWNUSG3P_uF\n",
      "To: /content/test.csv\n",
      "100% 43.1k/43.1k [00:00<00:00, 70.8MB/s]\n"
     ]
    }
   ],
   "source": [
    "!gdown --id 1OlcvGWReJMuyYQuOZm149vHWwPtlboR6 --output train.csv\n",
    "!gdown --id 1Oi5cRlTybuIF2Fl5Bfsr-KkqrXrdt77w --output valid.csv\n",
    "!gdown --id 1ep9H6-HvhB4utJRLVcLzieWNUSG3P_uF --output test.csv"
   ]
  },
  {
   "cell_type": "code",
   "execution_count": 9,
   "metadata": {
    "colab": {},
    "colab_type": "code",
    "id": "UPhGLYMlKF9A"
   },
   "outputs": [],
   "source": [
    "train = pd.read_csv('train.csv')\n",
    "valid = pd.read_csv('valid.csv')\n",
    "test = pd.read_csv('test.csv')"
   ]
  },
  {
   "cell_type": "code",
   "execution_count": 10,
   "metadata": {
    "colab": {},
    "colab_type": "code",
    "id": "g4_CIostK3GG"
   },
   "outputs": [],
   "source": [
    "train = train.append(valid).reset_index(drop=True)"
   ]
  },
  {
   "cell_type": "code",
   "execution_count": 11,
   "metadata": {
    "colab": {
     "base_uri": "https://localhost:8080/",
     "height": 34
    },
    "colab_type": "code",
    "id": "9QnzgkqmLA1d",
    "outputId": "db6ce789-5bef-47a2-fa93-ec1349766d9a"
   },
   "outputs": [
    {
     "data": {
      "text/plain": [
       "(13784, 2)"
      ]
     },
     "execution_count": 11,
     "metadata": {
      "tags": []
     },
     "output_type": "execute_result"
    }
   ],
   "source": [
    "train.shape"
   ]
  },
  {
   "cell_type": "code",
   "execution_count": 12,
   "metadata": {
    "colab": {
     "base_uri": "https://localhost:8080/",
     "height": 195
    },
    "colab_type": "code",
    "id": "Fca8xn7KLBw0",
    "outputId": "74506880-83e1-4266-cea8-d4820a6a2bab"
   },
   "outputs": [
    {
     "data": {
      "text/html": [
       "<div>\n",
       "<style scoped>\n",
       "    .dataframe tbody tr th:only-of-type {\n",
       "        vertical-align: middle;\n",
       "    }\n",
       "\n",
       "    .dataframe tbody tr th {\n",
       "        vertical-align: top;\n",
       "    }\n",
       "\n",
       "    .dataframe thead th {\n",
       "        text-align: right;\n",
       "    }\n",
       "</style>\n",
       "<table border=\"1\" class=\"dataframe\">\n",
       "  <thead>\n",
       "    <tr style=\"text-align: right;\">\n",
       "      <th></th>\n",
       "      <th>text</th>\n",
       "      <th>intent</th>\n",
       "    </tr>\n",
       "  </thead>\n",
       "  <tbody>\n",
       "    <tr>\n",
       "      <th>0</th>\n",
       "      <td>listen to westbam alumb allergic on google music</td>\n",
       "      <td>PlayMusic</td>\n",
       "    </tr>\n",
       "    <tr>\n",
       "      <th>1</th>\n",
       "      <td>add step to me to the 50 clásicos playlist</td>\n",
       "      <td>AddToPlaylist</td>\n",
       "    </tr>\n",
       "    <tr>\n",
       "      <th>2</th>\n",
       "      <td>i give this current textbook a rating value of...</td>\n",
       "      <td>RateBook</td>\n",
       "    </tr>\n",
       "    <tr>\n",
       "      <th>3</th>\n",
       "      <td>play the song little robin redbreast</td>\n",
       "      <td>PlayMusic</td>\n",
       "    </tr>\n",
       "    <tr>\n",
       "      <th>4</th>\n",
       "      <td>please add iris dement to my playlist this is ...</td>\n",
       "      <td>AddToPlaylist</td>\n",
       "    </tr>\n",
       "  </tbody>\n",
       "</table>\n",
       "</div>"
      ],
      "text/plain": [
       "                                                text         intent\n",
       "0   listen to westbam alumb allergic on google music      PlayMusic\n",
       "1         add step to me to the 50 clásicos playlist  AddToPlaylist\n",
       "2  i give this current textbook a rating value of...       RateBook\n",
       "3               play the song little robin redbreast      PlayMusic\n",
       "4  please add iris dement to my playlist this is ...  AddToPlaylist"
      ]
     },
     "execution_count": 12,
     "metadata": {
      "tags": []
     },
     "output_type": "execute_result"
    }
   ],
   "source": [
    "train.head()"
   ]
  },
  {
   "cell_type": "code",
   "execution_count": 13,
   "metadata": {
    "colab": {
     "base_uri": "https://localhost:8080/",
     "height": 151
    },
    "colab_type": "code",
    "id": "Mc46KCyxLLhG",
    "outputId": "4b3a3cc2-b2d6-49e9-9ae4-24299941550d"
   },
   "outputs": [
    {
     "data": {
      "text/plain": [
       "PlayMusic               2014\n",
       "GetWeather              1996\n",
       "BookRestaurant          1981\n",
       "RateBook                1976\n",
       "SearchScreeningEvent    1952\n",
       "SearchCreativeWork      1947\n",
       "AddToPlaylist           1918\n",
       "Name: intent, dtype: int64"
      ]
     },
     "execution_count": 13,
     "metadata": {
      "tags": []
     },
     "output_type": "execute_result"
    }
   ],
   "source": [
    "train.intent.value_counts()"
   ]
  },
  {
   "cell_type": "code",
   "execution_count": 14,
   "metadata": {
    "colab": {
     "base_uri": "https://localhost:8080/",
     "height": 50
    },
    "colab_type": "code",
    "id": "dtOptBbyLskt",
    "outputId": "6f04cfab-d743-4946-ecf4-84c2c23a6c57"
   },
   "outputs": [
    {
     "data": {
      "text/plain": [
       "array(['PlayMusic', 'AddToPlaylist', 'RateBook', 'SearchScreeningEvent',\n",
       "       'BookRestaurant', 'GetWeather', 'SearchCreativeWork'], dtype=object)"
      ]
     },
     "execution_count": 14,
     "metadata": {
      "tags": []
     },
     "output_type": "execute_result"
    }
   ],
   "source": [
    "train.intent.unique()"
   ]
  },
  {
   "cell_type": "code",
   "execution_count": 15,
   "metadata": {
    "colab": {},
    "colab_type": "code",
    "id": "8R_hVb2yLzsw"
   },
   "outputs": [],
   "source": [
    "labels = ['PlayMusic', 'GetWeather', 'BookRestaurant',\n",
    "          'RateBook',   'SearchScreeningEvent',\n",
    "         'SearchCreativeWork', 'AddToPlaylist']"
   ]
  },
  {
   "cell_type": "code",
   "execution_count": 16,
   "metadata": {
    "colab": {
     "base_uri": "https://localhost:8080/",
     "height": 483
    },
    "colab_type": "code",
    "id": "U5Ya85TfLSa9",
    "outputId": "ec954bab-d0bc-4a86-b3cd-f55bce0dd9e3"
   },
   "outputs": [
    {
     "data": {
      "image/png": "[encoded data removed]",
      "text/plain": [
       "<Figure size 864x576 with 1 Axes>"
      ]
     },
     "metadata": {
      "tags": []
     },
     "output_type": "display_data"
    }
   ],
   "source": [
    "plt.pie(train.intent.value_counts(), labels=labels)\n",
    "plt.title('Each Category Count')\n",
    "plt.show()"
   ]
  },
  {
   "cell_type": "code",
   "execution_count": 17,
   "metadata": {
    "colab": {
     "base_uri": "https://localhost:8080/",
     "height": 483
    },
    "colab_type": "code",
    "id": "REP0thzVLlZy",
    "outputId": "2e59e9b0-3637-43cc-a7ea-6dc7412632a8"
   },
   "outputs": [
    {
     "data": {
      "image/png": "[encoded data removed]",
      "text/plain": [
       "<Figure size 864x576 with 1 Axes>"
      ]
     },
     "metadata": {
      "tags": []
     },
     "output_type": "display_data"
    }
   ],
   "source": [
    "plt.pie(train.intent.value_counts(), autopct='%1.1f%%', labels=labels)\n",
    "plt.title('Number of text per Intent')\n",
    "plt.show()"
   ]
  },
  {
   "cell_type": "code",
   "execution_count": 18,
   "metadata": {
    "colab": {
     "base_uri": "https://localhost:8080/",
     "height": 576
    },
    "colab_type": "code",
    "id": "BT_703CjNSvT",
    "outputId": "7228dfc0-0f6c-43c1-caeb-04ec102d291c"
   },
   "outputs": [
    {
     "data": {
      "image/png": "[encoded data removed]",
      "text/plain": [
       "<Figure size 864x576 with 1 Axes>"
      ]
     },
     "metadata": {
      "tags": []
     },
     "output_type": "display_data"
    }
   ],
   "source": [
    "chart = sns.countplot(train.intent, palette=HAPPY_COLORS_PALETTE)\n",
    "plt.title('Number of texts per intent')\n",
    "chart.set_xticklabels(chart.get_xticklabels(), rotation=30, horizontalalignment='right')\n",
    "plt.tight_layout()\n",
    "plt.show()"
   ]
  },
  {
   "cell_type": "code",
   "execution_count": 19,
   "metadata": {
    "colab": {
     "base_uri": "https://localhost:8080/",
     "height": 202
    },
    "colab_type": "code",
    "id": "-ufpWIE8O_hc",
    "outputId": "be9f402d-d8f2-4173-920e-e72045052642"
   },
   "outputs": [
    {
     "name": "stdout",
     "output_type": "stream",
     "text": [
      "--2020-08-16 05:45:51--  https://storage.googleapis.com/bert_models/2018_10_18/uncased_L-12_H-768_A-12.zip\n",
      "Resolving storage.googleapis.com (storage.googleapis.com)... 74.125.20.128, 74.125.135.128, 74.125.28.128, ...\n",
      "Connecting to storage.googleapis.com (storage.googleapis.com)|74.125.20.128|:443... connected.\n",
      "HTTP request sent, awaiting response... 200 OK\n",
      "Length: 407727028 (389M) [application/zip]\n",
      "Saving to: ‘uncased_L-12_H-768_A-12.zip’\n",
      "\n",
      "uncased_L-12_H-768_ 100%[===================>] 388.84M   207MB/s    in 1.9s    \n",
      "\n",
      "2020-08-16 05:45:53 (207 MB/s) - ‘uncased_L-12_H-768_A-12.zip’ saved [407727028/407727028]\n",
      "\n"
     ]
    }
   ],
   "source": [
    "# Download Pre-Training BERT Model\n",
    "\n",
    "!wget https://storage.googleapis.com/bert_models/2018_10_18/uncased_L-12_H-768_A-12.zip"
   ]
  },
  {
   "cell_type": "code",
   "execution_count": 21,
   "metadata": {
    "colab": {
     "base_uri": "https://localhost:8080/",
     "height": 50
    },
    "colab_type": "code",
    "id": "4HiQL1feNu37",
    "outputId": "b0612274-4bb9-4972-9d3a-a9df4771e88e"
   },
   "outputs": [
    {
     "name": "stdout",
     "output_type": "stream",
     "text": [
      "Archive:  uncased_L-12_H-768_A-12.zip\n",
      "replace uncased_L-12_H-768_A-12/bert_model.ckpt.meta? [y]es, [n]o, [A]ll, [N]one, [r]ename: "
     ]
    }
   ],
   "source": [
    "!unzip uncased_L-12_H-768_A-12.zip"
   ]
  },
  {
   "cell_type": "code",
   "execution_count": 24,
   "metadata": {
    "colab": {},
    "colab_type": "code",
    "id": "AJOqkxKQzixy"
   },
   "outputs": [],
   "source": [
    "os.makedirs('model', exist_ok=True)"
   ]
  },
  {
   "cell_type": "code",
   "execution_count": 25,
   "metadata": {
    "colab": {},
    "colab_type": "code",
    "id": "HYaYDPsy7uKf"
   },
   "outputs": [],
   "source": [
    "!mv uncased_L-12_H-768_A-12/ model"
   ]
  },
  {
   "cell_type": "code",
   "execution_count": 27,
   "metadata": {
    "colab": {},
    "colab_type": "code",
    "id": "-2mepOy58HWi"
   },
   "outputs": [],
   "source": [
    "bert_model_name = 'uncased_L-12_H-768_A-12'\n",
    "\n",
    "bert_ckpt_dir = os.path.join('model/', bert_model_name)\n",
    "\n",
    "bert_ckpt_file = os.path.join(bert_ckpt_dir, 'bert_model.ckpt')\n",
    "\n",
    "bert_config_file = os.path.join(bert_ckpt_dir, 'bert_config.json')"
   ]
  },
  {
   "cell_type": "code",
   "execution_count": 28,
   "metadata": {
    "colab": {
     "base_uri": "https://localhost:8080/",
     "height": 35
    },
    "colab_type": "code",
    "id": "jo89-68r8VGI",
    "outputId": "b67b1e4d-33fe-48ac-c091-16755175de4d"
   },
   "outputs": [
    {
     "data": {
      "application/vnd.google.colaboratory.intrinsic+json": {
       "type": "string"
      },
      "text/plain": [
       "'model/uncased_L-12_H-768_A-12/bert_model.ckpt'"
      ]
     },
     "execution_count": 28,
     "metadata": {
      "tags": []
     },
     "output_type": "execute_result"
    }
   ],
   "source": [
    "bert_ckpt_file"
   ]
  },
  {
   "cell_type": "markdown",
   "metadata": {
    "colab_type": "text",
    "id": "R_svRDHL9m6x"
   },
   "source": [
    "Preprocessing"
   ]
  },
  {
   "cell_type": "code",
   "execution_count": 29,
   "metadata": {
    "colab": {
     "base_uri": "https://localhost:8080/",
     "height": 195
    },
    "colab_type": "code",
    "id": "rkDEihrl9zt9",
    "outputId": "6086eb7d-868a-4036-888d-b51d7301353b"
   },
   "outputs": [
    {
     "data": {
      "text/html": [
       "<div>\n",
       "<style scoped>\n",
       "    .dataframe tbody tr th:only-of-type {\n",
       "        vertical-align: middle;\n",
       "    }\n",
       "\n",
       "    .dataframe tbody tr th {\n",
       "        vertical-align: top;\n",
       "    }\n",
       "\n",
       "    .dataframe thead th {\n",
       "        text-align: right;\n",
       "    }\n",
       "</style>\n",
       "<table border=\"1\" class=\"dataframe\">\n",
       "  <thead>\n",
       "    <tr style=\"text-align: right;\">\n",
       "      <th></th>\n",
       "      <th>text</th>\n",
       "      <th>intent</th>\n",
       "    </tr>\n",
       "  </thead>\n",
       "  <tbody>\n",
       "    <tr>\n",
       "      <th>0</th>\n",
       "      <td>listen to westbam alumb allergic on google music</td>\n",
       "      <td>PlayMusic</td>\n",
       "    </tr>\n",
       "    <tr>\n",
       "      <th>1</th>\n",
       "      <td>add step to me to the 50 clásicos playlist</td>\n",
       "      <td>AddToPlaylist</td>\n",
       "    </tr>\n",
       "    <tr>\n",
       "      <th>2</th>\n",
       "      <td>i give this current textbook a rating value of...</td>\n",
       "      <td>RateBook</td>\n",
       "    </tr>\n",
       "    <tr>\n",
       "      <th>3</th>\n",
       "      <td>play the song little robin redbreast</td>\n",
       "      <td>PlayMusic</td>\n",
       "    </tr>\n",
       "    <tr>\n",
       "      <th>4</th>\n",
       "      <td>please add iris dement to my playlist this is ...</td>\n",
       "      <td>AddToPlaylist</td>\n",
       "    </tr>\n",
       "  </tbody>\n",
       "</table>\n",
       "</div>"
      ],
      "text/plain": [
       "                                                text         intent\n",
       "0   listen to westbam alumb allergic on google music      PlayMusic\n",
       "1         add step to me to the 50 clásicos playlist  AddToPlaylist\n",
       "2  i give this current textbook a rating value of...       RateBook\n",
       "3               play the song little robin redbreast      PlayMusic\n",
       "4  please add iris dement to my playlist this is ...  AddToPlaylist"
      ]
     },
     "execution_count": 29,
     "metadata": {
      "tags": []
     },
     "output_type": "execute_result"
    }
   ],
   "source": [
    "train.head()"
   ]
  },
  {
   "cell_type": "code",
   "execution_count": 80,
   "metadata": {
    "colab": {},
    "colab_type": "code",
    "id": "ReA3tvbN9jSW"
   },
   "outputs": [],
   "source": [
    "class IntentDetectionData:\n",
    "    DATA_COLUMN = 'text'\n",
    "    LABEL_COLUMN = 'intent'\n",
    "\n",
    "    def __init__(self, train, test, tokenizer: FullTokenizer, classes, max_seq_len=192):\n",
    "      self.tokenizer = tokenizer\n",
    "      self.max_seq_len = 0\n",
    "      self.classes = classes\n",
    "\n",
    "      ((self.train_x, self.train_y), (self.test_x, self.test_y)) =\\\n",
    "        map(self._prepare, [train, test])\n",
    "\n",
    "      self.max_seq_len = min(self.max_seq_len, max_seq_len)\n",
    "      self.train_x, self.test_x = map(self._pad, [self.train_x, self.test_x])\n",
    "\n",
    "    def _prepare(self, df):\n",
    "      x, y = [], []\n",
    "\n",
    "      for _, row in tqdm(df.iterrows()):\n",
    "        text, label =\\\n",
    "          row[IntentDetectionData.DATA_COLUMN], row[IntentDetectionData.LABEL_COLUMN]\n",
    "        \n",
    "        tokens = self.tokenizer.tokenize(text)\n",
    "        tokens = ['[CLS]'] + tokens + ['[SEP]']\n",
    "        token_ids = self.tokenizer.convert_tokens_to_ids(tokens)\n",
    "        \n",
    "        self.max_seq_len = max(self.max_seq_len, len(token_ids))\n",
    "\n",
    "        x.append(token_ids)\n",
    "        y.append(self.classes.index(label))\n",
    "\n",
    "      return np.array(x), np.array(y)\n",
    "    \n",
    "    def _pad(self, ids):\n",
    "      x = []\n",
    "      for input_ids in ids:\n",
    "        cut_point = min(len(input_ids), self.max_seq_len -2)\n",
    "        input_ids = input_ids[:cut_point] \n",
    "        input_ids = input_ids + [0] * (self.max_seq_len - len(input_ids))\n",
    "        x.append(np.array(input_ids))\n",
    "\n",
    "      return np.array(x)\n",
    "\n",
    "    "
   ]
  },
  {
   "cell_type": "code",
   "execution_count": 75,
   "metadata": {
    "colab": {},
    "colab_type": "code",
    "id": "VazJ0OUc8ydT"
   },
   "outputs": [],
   "source": [
    "tokenizer = FullTokenizer(vocab_file=os.path.join(bert_ckpt_dir, 'vocab.txt'))"
   ]
  },
  {
   "cell_type": "code",
   "execution_count": 76,
   "metadata": {
    "colab": {
     "base_uri": "https://localhost:8080/",
     "height": 34
    },
    "colab_type": "code",
    "id": "Or5IXB4uGlIY",
    "outputId": "c13c765d-1e10-42d7-e59f-4f59cc175ea0"
   },
   "outputs": [
    {
     "data": {
      "text/plain": [
       "['i', 'can', \"'\", 't', 'wait', 'to', 'visit', 'mumbai', '!']"
      ]
     },
     "execution_count": 76,
     "metadata": {
      "tags": []
     },
     "output_type": "execute_result"
    }
   ],
   "source": [
    "tokenizer.tokenize(\"I can't wait to visit Mumbai!\")"
   ]
  },
  {
   "cell_type": "code",
   "execution_count": 77,
   "metadata": {
    "colab": {
     "base_uri": "https://localhost:8080/",
     "height": 34
    },
    "colab_type": "code",
    "id": "-5490wVXHIcM",
    "outputId": "f5c8ec91-7bb6-4b3f-b7ff-d3b6a470b3b6"
   },
   "outputs": [
    {
     "data": {
      "text/plain": [
       "[1045, 2064, 1005, 1056, 3524, 2000, 3942, 8955, 999]"
      ]
     },
     "execution_count": 77,
     "metadata": {
      "tags": []
     },
     "output_type": "execute_result"
    }
   ],
   "source": [
    "tokens = tokenizer.tokenize(\"I can't wait to visit Mumbai!\")\n",
    "tokenizer.convert_tokens_to_ids(tokens)"
   ]
  },
  {
   "cell_type": "code",
   "execution_count": 92,
   "metadata": {
    "colab": {},
    "colab_type": "code",
    "id": "KFKi8K82HlR7"
   },
   "outputs": [],
   "source": [
    "# https://www.youtube.com/watch?v=gE-95nFF4Cc&t=72s\n",
    "def create_model(max_seq_len, bert_config_file, bert_ckpt_file):\n",
    "\n",
    "  with tf.io.gfile.GFile(bert_config_file, \"r\") as reader:\n",
    "      bc = StockBertConfig.from_json_string(reader.read())\n",
    "      bert_params = map_stock_config_to_params(bc)\n",
    "      bert_params.adapter_size = None\n",
    "      bert = BertModelLayer.from_params(bert_params, name=\"bert\")\n",
    "  input_ids = keras.layers.Input(\n",
    "    shape=(max_seq_len, ),\n",
    "    dtype='int32',\n",
    "    name=\"input_ids\"\n",
    "  )\n",
    "  bert_output = bert(input_ids)\n",
    "  print ('Bert Shape', bert_output.shape)\n",
    "\n",
    "  cls_out = keras.layers.Lambda(lambda seq: seq[:, 0, :])(bert_output)\n",
    "  cls_out = keras.layers.Dropout(0.5)(cls_out)\n",
    "  logits = keras.layers.Dense(units=768, activation='tanh')(cls_out)\n",
    "  logits = keras.layers.Dropout(0.5)(logits)\n",
    "  logits = keras.layers.Dense(units=len(classes), activation='softmax')(logits)\n",
    "\n",
    "\n",
    "  model = keras.Model(inputs=input_ids, outputs=logits)\n",
    "\n",
    "  model.build(input_shape=(None, max_seq_len))\n",
    "\n",
    "  load_stock_weights(bert, bert_ckpt_file)\n",
    "\n",
    "  return model\n",
    "\n"
   ]
  },
  {
   "cell_type": "code",
   "execution_count": 81,
   "metadata": {
    "colab": {
     "base_uri": "https://localhost:8080/",
     "height": 50
    },
    "colab_type": "code",
    "id": "fahABQ4XKxz4",
    "outputId": "3cc5a622-9a47-47ad-a250-6266d12fe322"
   },
   "outputs": [
    {
     "name": "stderr",
     "output_type": "stream",
     "text": [
      "13784it [00:03, 3655.75it/s]\n",
      "700it [00:00, 3633.28it/s]\n"
     ]
    }
   ],
   "source": [
    "classes = train.intent.unique().tolist()\n",
    "#print (classes)\n",
    "\n",
    "data = IntentDetectionData(train, test, tokenizer, classes, max_seq_len=128)"
   ]
  },
  {
   "cell_type": "code",
   "execution_count": 93,
   "metadata": {
    "colab": {
     "base_uri": "https://localhost:8080/",
     "height": 255
    },
    "colab_type": "code",
    "id": "slksicO6L9y6",
    "outputId": "8eaa4f25-5be9-46c5-8882-5dbb4cd674c6"
   },
   "outputs": [
    {
     "name": "stdout",
     "output_type": "stream",
     "text": [
      "Bert Shape (None, 38, 768)\n",
      "Done loading 196 BERT weights from: model/uncased_L-12_H-768_A-12/bert_model.ckpt into <bert.model.BertModelLayer object at 0x7fd8f3db3e80> (prefix:bert). Count of weights not found in the checkpoint was: [0]. Count of weights with mismatched shape: [0]\n",
      "Unused weights from checkpoint: \n",
      "\tbert/embeddings/token_type_embeddings\n",
      "\tbert/pooler/dense/bias\n",
      "\tbert/pooler/dense/kernel\n",
      "\tcls/predictions/output_bias\n",
      "\tcls/predictions/transform/LayerNorm/beta\n",
      "\tcls/predictions/transform/LayerNorm/gamma\n",
      "\tcls/predictions/transform/dense/bias\n",
      "\tcls/predictions/transform/dense/kernel\n",
      "\tcls/seq_relationship/output_bias\n",
      "\tcls/seq_relationship/output_weights\n"
     ]
    }
   ],
   "source": [
    "model = create_model(data.max_seq_len, bert_config_file, bert_ckpt_file)"
   ]
  },
  {
   "cell_type": "code",
   "execution_count": 94,
   "metadata": {
    "colab": {
     "base_uri": "https://localhost:8080/",
     "height": 386
    },
    "colab_type": "code",
    "id": "WGrJidRQNM-V",
    "outputId": "f479e279-0ebe-42aa-8a7f-ca21d5e536e7"
   },
   "outputs": [
    {
     "name": "stdout",
     "output_type": "stream",
     "text": [
      "Model: \"functional_1\"\n",
      "_________________________________________________________________\n",
      "Layer (type)                 Output Shape              Param #   \n",
      "=================================================================\n",
      "input_ids (InputLayer)       [(None, 38)]              0         \n",
      "_________________________________________________________________\n",
      "bert (BertModelLayer)        (None, 38, 768)           108890112 \n",
      "_________________________________________________________________\n",
      "lambda_2 (Lambda)            (None, 768)               0         \n",
      "_________________________________________________________________\n",
      "dropout_4 (Dropout)          (None, 768)               0         \n",
      "_________________________________________________________________\n",
      "dense_4 (Dense)              (None, 768)               590592    \n",
      "_________________________________________________________________\n",
      "dropout_5 (Dropout)          (None, 768)               0         \n",
      "_________________________________________________________________\n",
      "dense_5 (Dense)              (None, 7)                 5383      \n",
      "=================================================================\n",
      "Total params: 109,486,087\n",
      "Trainable params: 109,486,087\n",
      "Non-trainable params: 0\n",
      "_________________________________________________________________\n"
     ]
    }
   ],
   "source": [
    "model.summary()"
   ]
  },
  {
   "cell_type": "code",
   "execution_count": 95,
   "metadata": {
    "colab": {
     "base_uri": "https://localhost:8080/",
     "height": 34
    },
    "colab_type": "code",
    "id": "2yRNqMK7PRlq",
    "outputId": "185874c9-e3e9-4464-c360-6a3aedeaf182"
   },
   "outputs": [
    {
     "data": {
      "text/plain": [
       "(13784, 38)"
      ]
     },
     "execution_count": 95,
     "metadata": {
      "tags": []
     },
     "output_type": "execute_result"
    }
   ],
   "source": [
    "data.train_x.shape"
   ]
  },
  {
   "cell_type": "code",
   "execution_count": 98,
   "metadata": {
    "colab": {
     "base_uri": "https://localhost:8080/",
     "height": 50
    },
    "colab_type": "code",
    "id": "8cTz2pSKPeeP",
    "outputId": "3bd8a2d0-999c-43c8-ba27-72bc10052603"
   },
   "outputs": [
    {
     "name": "stdout",
     "output_type": "stream",
     "text": [
      "1\n",
      "0\n"
     ]
    }
   ],
   "source": [
    "print (data.train_y[1])\n",
    "print (data.train_y[3])\n"
   ]
  },
  {
   "cell_type": "code",
   "execution_count": 103,
   "metadata": {
    "colab": {
     "base_uri": "https://localhost:8080/",
     "height": 171
    },
    "colab_type": "code",
    "id": "BLXaW-DEPkbv",
    "outputId": "dae71e0e-f47b-40b6-f805-5593ec3493d4"
   },
   "outputs": [
    {
     "name": "stdout",
     "output_type": "stream",
     "text": [
      "['listen', 'to', 'west', '##ba', '##m', 'al', '##umb', 'allergic', 'on', 'google', 'music']\n",
      "11\n",
      "listen to westbam alumb allergic on google music\n"
     ]
    },
    {
     "data": {
      "text/plain": [
       "array([  101,  4952,  2000,  2225,  3676,  2213,  2632, 25438, 27395,\n",
       "        2006,  8224,  2189,   102,     0,     0,     0,     0,     0,\n",
       "           0,     0,     0,     0,     0,     0,     0,     0,     0,\n",
       "           0,     0,     0,     0,     0,     0,     0,     0,     0,\n",
       "           0,     0])"
      ]
     },
     "execution_count": 103,
     "metadata": {
      "tags": []
     },
     "output_type": "execute_result"
    }
   ],
   "source": [
    "print (tokenizer.tokenize(train.text[0]))\n",
    "print (len(tokenizer.tokenize(train.text[0])))\n",
    "print (train.text[0])\n",
    "data.train_x[0]"
   ]
  },
  {
   "cell_type": "code",
   "execution_count": 100,
   "metadata": {
    "colab": {
     "base_uri": "https://localhost:8080/",
     "height": 35
    },
    "colab_type": "code",
    "id": "9nqkkXjmPq44",
    "outputId": "19076597-6756-46ae-c3af-b066e31044dc"
   },
   "outputs": [
    {
     "data": {
      "application/vnd.google.colaboratory.intrinsic+json": {
       "type": "string"
      },
      "text/plain": [
       "'listen to westbam alumb allergic on google music'"
      ]
     },
     "execution_count": 100,
     "metadata": {
      "tags": []
     },
     "output_type": "execute_result"
    }
   ],
   "source": [
    "train.text[0]"
   ]
  },
  {
   "cell_type": "code",
   "execution_count": 110,
   "metadata": {
    "colab": {},
    "colab_type": "code",
    "id": "vaKDlyL2PtqD"
   },
   "outputs": [],
   "source": [
    "model.compile(\n",
    "    optimizer=keras.optimizers.Adam(1e-5),\n",
    "    loss=keras.losses.SparseCategoricalCrossentropy(from_logits=True),\n",
    "    metrics=[keras.metrics.SparseCategoricalAccuracy(name='acc')]\n",
    "\n",
    ")"
   ]
  },
  {
   "cell_type": "code",
   "execution_count": 112,
   "metadata": {
    "colab": {},
    "colab_type": "code",
    "id": "-6IlyaFMR-fB"
   },
   "outputs": [],
   "source": [
    "log_dir = 'log/intent_detection'+datetime.datetime.now().strftime('%Y%m%d-%H%M%s')\n"
   ]
  },
  {
   "cell_type": "code",
   "execution_count": 113,
   "metadata": {
    "colab": {
     "base_uri": "https://localhost:8080/",
     "height": 255
    },
    "colab_type": "code",
    "id": "CYNH8gGlSqwx",
    "outputId": "2e60f312-ab9f-4b89-f51b-899865d03127"
   },
   "outputs": [
    {
     "name": "stdout",
     "output_type": "stream",
     "text": [
      "Epoch 1/5\n",
      "  1/776 [..............................] - ETA: 0s - loss: 1.9230 - acc: 0.1875WARNING:tensorflow:From /usr/local/lib/python3.6/dist-packages/tensorflow/python/ops/summary_ops_v2.py:1277: stop (from tensorflow.python.eager.profiler) is deprecated and will be removed after 2020-07-01.\n",
      "Instructions for updating:\n",
      "use `tf.profiler.experimental.stop` instead.\n",
      "776/776 [==============================] - 261s 337ms/step - loss: 1.3025 - acc: 0.8763 - val_loss: 1.1858 - val_acc: 0.9804\n",
      "Epoch 2/5\n",
      "776/776 [==============================] - 261s 336ms/step - loss: 1.1867 - acc: 0.9803 - val_loss: 1.1765 - val_acc: 0.9891\n",
      "Epoch 3/5\n",
      "776/776 [==============================] - 261s 336ms/step - loss: 1.1794 - acc: 0.9866 - val_loss: 1.1854 - val_acc: 0.9782\n",
      "Epoch 4/5\n",
      "776/776 [==============================] - 261s 336ms/step - loss: 1.1764 - acc: 0.9897 - val_loss: 1.1753 - val_acc: 0.9906\n",
      "Epoch 5/5\n",
      "776/776 [==============================] - 261s 336ms/step - loss: 1.1761 - acc: 0.9897 - val_loss: 1.1758 - val_acc: 0.9898\n"
     ]
    }
   ],
   "source": [
    "tensorboard_callback = keras.callbacks.TensorBoard(log_dir=log_dir)\n",
    "\n",
    "history = model.fit(\n",
    "    x=data.train_x,\n",
    "    y=data.train_y,\n",
    "    validation_split=0.1,\n",
    "    batch_size=16,\n",
    "    shuffle=True,\n",
    "    epochs=5,\n",
    "    callbacks=[tensorboard_callback]\n",
    ")"
   ]
  },
  {
   "cell_type": "code",
   "execution_count": 115,
   "metadata": {
    "colab": {
     "base_uri": "https://localhost:8080/",
     "height": 34
    },
    "colab_type": "code",
    "id": "sTceUpFlTQbQ",
    "outputId": "56d64ee1-14ab-4687-9a7e-42eac24a5ebd"
   },
   "outputs": [
    {
     "name": "stdout",
     "output_type": "stream",
     "text": [
      "22/22 [==============================] - 2s 96ms/step - loss: 1.1856 - acc: 0.9800\n"
     ]
    }
   ],
   "source": [
    "_, text_acc = model.evaluate(data.test_x, data.test_y)\n"
   ]
  },
  {
   "cell_type": "code",
   "execution_count": 116,
   "metadata": {
    "colab": {},
    "colab_type": "code",
    "id": "0Zx8WeBIVOwx"
   },
   "outputs": [],
   "source": [
    "y_pred = model.predict(data.test_x).argmax(axis=1)"
   ]
  },
  {
   "cell_type": "code",
   "execution_count": 119,
   "metadata": {
    "colab": {
     "base_uri": "https://localhost:8080/",
     "height": 252
    },
    "colab_type": "code",
    "id": "eGy_v_0sVO0N",
    "outputId": "3db5da56-f8ff-453d-d0af-04b25fbb9699"
   },
   "outputs": [
    {
     "name": "stdout",
     "output_type": "stream",
     "text": [
      "                      precision    recall  f1-score   support\n",
      "\n",
      "           PlayMusic       0.95      1.00      0.97        86\n",
      "       AddToPlaylist       0.99      1.00      1.00       124\n",
      "            RateBook       1.00      1.00      1.00        80\n",
      "SearchScreeningEvent       1.00      0.94      0.97       107\n",
      "      BookRestaurant       0.98      1.00      0.99        92\n",
      "          GetWeather       1.00      0.98      0.99       104\n",
      "  SearchCreativeWork       0.94      0.94      0.94       107\n",
      "\n",
      "            accuracy                           0.98       700\n",
      "           macro avg       0.98      0.98      0.98       700\n",
      "        weighted avg       0.98      0.98      0.98       700\n",
      "\n"
     ]
    }
   ],
   "source": [
    "from sklearn.metrics import classification_report\n",
    "print (classification_report(data.test_y, y_pred, target_names=classes))"
   ]
  },
  {
   "cell_type": "code",
   "execution_count": 192,
   "metadata": {
    "colab": {},
    "colab_type": "code",
    "id": "P5hOhmEuYfPj"
   },
   "outputs": [],
   "source": [
    "sentences = [\n",
    "            'play our song now',\n",
    "            'Rate this book as awful',\n",
    "             'Reserve a table for two'\n",
    "]\n",
    "\n",
    "tokens = map(tokenizer.tokenize, sentences)\n",
    "tokens = map(lambda tok: [\"[CLS]\"]+ tok + [\"[SEP]\"], tokens)\n"
   ]
  },
  {
   "cell_type": "code",
   "execution_count": 193,
   "metadata": {
    "colab": {},
    "colab_type": "code",
    "id": "ZSxQI22vZmgv"
   },
   "outputs": [],
   "source": [
    "token_ids = list(map(tokenizer.convert_tokens_to_ids, tokens))\n",
    "\n",
    "token_ids = map(\n",
    "    lambda tids: tids + [0]*(data.max_seq_len - len(tids)), \n",
    "    token_ids\n",
    "  )\n",
    "pred_token_ids = np.array(list(token_ids))\n",
    "predictions = model.predict(pred_token_ids).argmax(axis=-1)"
   ]
  },
  {
   "cell_type": "code",
   "execution_count": 194,
   "metadata": {
    "colab": {
     "base_uri": "https://localhost:8080/",
     "height": 168
    },
    "colab_type": "code",
    "id": "XBIGIAbxa8Rz",
    "outputId": "9fb273f8-2bb0-4252-d915-964da28f80f4"
   },
   "outputs": [
    {
     "name": "stdout",
     "output_type": "stream",
     "text": [
      "text: play our song now \n",
      "intent: PlayMusic\n",
      "\n",
      "text: Rate this book as awful \n",
      "intent: RateBook\n",
      "\n",
      "text: Reserve a table for two \n",
      "intent: BookRestaurant\n",
      "\n"
     ]
    }
   ],
   "source": [
    "for text, label in zip(sentences, predictions):\n",
    "  print(\"text:\", text, \"\\nintent:\", classes[label])\n",
    "  print()"
   ]
  },
  {
   "cell_type": "code",
   "execution_count": null,
   "metadata": {
    "colab": {},
    "colab_type": "code",
    "id": "G0IVbEWgbpz_"
   },
   "outputs": [],
   "source": []
  }
 ],
 "metadata": {
  "accelerator": "GPU",
  "colab": {
   "collapsed_sections": [],
   "name": "BERT.ipynb",
   "provenance": []
  },
  "kernelspec": {
   "display_name": "Python 3",
   "language": "python",
   "name": "python3"
  },
  "language_info": {
   "codemirror_mode": {
    "name": "ipython",
    "version": 3
   },
   "file_extension": ".py",
   "mimetype": "text/x-python",
   "name": "python",
   "nbconvert_exporter": "python",
   "pygments_lexer": "ipython3",
   "version": "3.7.8"
  }
 },
 "nbformat": 4,
 "nbformat_minor": 1
}
